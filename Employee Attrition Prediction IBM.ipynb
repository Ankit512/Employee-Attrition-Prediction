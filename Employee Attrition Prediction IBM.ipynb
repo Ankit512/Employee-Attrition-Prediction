{
 "cells": [
  {
   "cell_type": "markdown",
   "metadata": {},
   "source": [
    "# Human Resorce Data to Predict Employee Attrition"
   ]
  },
  {
   "cell_type": "markdown",
   "metadata": {},
   "source": [
    "Developed a model that could predict which employees are more likely to quit their job. This fictional data created by an IBM data scientist."
   ]
  },
  {
   "cell_type": "markdown",
   "metadata": {},
   "source": [
    "___"
   ]
  },
  {
   "cell_type": "markdown",
   "metadata": {},
   "source": [
    "### Load the libraries and the data"
   ]
  },
  {
   "cell_type": "code",
   "execution_count": null,
   "metadata": {},
   "outputs": [],
   "source": [
    "import numpy as np \n",
    "import pandas as pd \n",
    "import tensorflow as tf\n",
    "import matplotlib.pyplot as plt\n",
    "%matplotlib inline\n",
    "from patsy import dmatrices\n",
    "import sklearn\n",
    "import seaborn as sns\n",
    "from plotly.subplots import make_subplots\n",
    "import plotly.graph_objs as go\n",
    "import plotly.tools as tls\n",
    "import plotly.figure_factory as ff"
   ]
  },
  {
   "cell_type": "code",
   "execution_count": null,
   "metadata": {},
   "outputs": [],
   "source": [
    "dataframe=pd.read_csv(\"IBM Attrition Data.csv\")"
   ]
  },
  {
   "cell_type": "code",
   "execution_count": null,
   "metadata": {},
   "outputs": [],
   "source": [
    "dataframe.head()"
   ]
  },
  {
   "cell_type": "code",
   "execution_count": null,
   "metadata": {},
   "outputs": [],
   "source": [
    "names = dataframe.columns.values \n",
    "print(names)"
   ]
  },
  {
   "cell_type": "code",
   "execution_count": null,
   "metadata": {
    "scrolled": false
   },
   "outputs": [],
   "source": [
    "dataframe.hist(bins=30, figsize=(20,20), color='b', alpha=0.6)"
   ]
  },
  {
   "cell_type": "code",
   "execution_count": null,
   "metadata": {},
   "outputs": [],
   "source": [
    "attrition = dataframe[dataframe['Attrition'] == 1]\n",
    "no_attrition = dataframe[dataframe['Attrition']==0]"
   ]
  },
  {
   "cell_type": "code",
   "execution_count": null,
   "metadata": {
    "scrolled": false
   },
   "outputs": [],
   "source": [
    "fig = make_subplots(rows=1, cols=2,\n",
    "                    specs=[[{\"type\":\"xy\"},{\"type\":\"domain\"}]],\n",
    "                    subplot_titles= (\"Count of Attrition\", \"Distribution of Attrition\"))\n",
    "\n",
    "fig.add_trace(go.Bar(x = dataframe['Attrition'].value_counts(),\n",
    "                     y = ['Employee who stayed', 'Employee who left'],\n",
    "                     orientation = 'h',\n",
    "                     opacity=0.8),\n",
    "                     row=1,col=1)\n",
    "\n",
    "fig.add_trace(go.Pie(values=dataframe['Attrition'].value_counts(),\n",
    "                    opacity=0.8),\n",
    "                    row=1, col=2)\n",
    "fig.update_layout(height=400, showlegend=False)\n",
    "\n",
    "fig.show()"
   ]
  },
  {
   "cell_type": "code",
   "execution_count": null,
   "metadata": {},
   "outputs": [],
   "source": [
    "# histogram for age\n",
    "plt.figure(figsize=(10,8))\n",
    "dataframe['Age'].hist(bins=70)\n",
    "plt.title(\"Age distribution of Employees\")\n",
    "plt.xlabel(\"Age\")\n",
    "plt.ylabel(\"# of Employees\")\n",
    "plt.show()"
   ]
  },
  {
   "cell_type": "code",
   "execution_count": null,
   "metadata": {},
   "outputs": [],
   "source": [
    "# explore data for Attrition by Age\n",
    "plt.figure(figsize=(14,10))\n",
    "plt.scatter(dataframe.Attrition,dataframe.Age, alpha=.55)\n",
    "plt.title(\"Attrition by Age \")\n",
    "plt.ylabel(\"Age\")\n",
    "plt.grid(b=True, which='major',axis='y')\n",
    "plt.show()"
   ]
  },
  {
   "cell_type": "code",
   "execution_count": null,
   "metadata": {},
   "outputs": [],
   "source": [
    "# explore data for Left employees breakdown\n",
    "plt.figure(figsize=(8,6))\n",
    "dataframe.Attrition.value_counts().plot(kind='barh',color='blue',alpha=.65)\n",
    "plt.title(\"Attrition breakdown \")\n",
    "plt.show()"
   ]
  },
  {
   "cell_type": "code",
   "execution_count": null,
   "metadata": {},
   "outputs": [],
   "source": [
    "# explore data for Education Field distribution\n",
    "plt.figure(figsize=(10,8))\n",
    "dataframe.EducationField.value_counts().plot(kind='barh',color='g',alpha=.65)\n",
    "plt.title(\"Education Field Distribution\")\n",
    "plt.show()"
   ]
  },
  {
   "cell_type": "code",
   "execution_count": null,
   "metadata": {},
   "outputs": [],
   "source": [
    "# explore data for Marital Status\n",
    "plt.figure(figsize=(8,6))\n",
    "dataframe.MaritalStatus.value_counts().plot(kind='bar',alpha=.5)\n",
    "plt.title(\"Marital Status\")\n",
    "plt.show()"
   ]
  },
  {
   "cell_type": "code",
   "execution_count": null,
   "metadata": {
    "scrolled": true
   },
   "outputs": [],
   "source": [
    "dataframe.describe()"
   ]
  },
  {
   "cell_type": "code",
   "execution_count": null,
   "metadata": {},
   "outputs": [],
   "source": [
    "dataframe.info()"
   ]
  },
  {
   "cell_type": "code",
   "execution_count": null,
   "metadata": {},
   "outputs": [],
   "source": [
    "dataframe.columns"
   ]
  },
  {
   "cell_type": "code",
   "execution_count": null,
   "metadata": {},
   "outputs": [],
   "source": [
    "dataframe.std()"
   ]
  },
  {
   "cell_type": "code",
   "execution_count": null,
   "metadata": {},
   "outputs": [],
   "source": [
    "dataframe['Attrition'].value_counts()"
   ]
  },
  {
   "cell_type": "code",
   "execution_count": null,
   "metadata": {},
   "outputs": [],
   "source": [
    "dataframe['Attrition'].dtypes"
   ]
  },
  {
   "cell_type": "code",
   "execution_count": null,
   "metadata": {},
   "outputs": [],
   "source": [
    "dataframe['Attrition'].replace('Yes',1, inplace=True)\n",
    "dataframe['Attrition'].replace('No',0, inplace=True)"
   ]
  },
  {
   "cell_type": "code",
   "execution_count": null,
   "metadata": {
    "scrolled": false
   },
   "outputs": [],
   "source": [
    "dataframe.head(10)"
   ]
  },
  {
   "cell_type": "code",
   "execution_count": null,
   "metadata": {},
   "outputs": [],
   "source": [
    "def categorical_colum_investigaton(col_name):\n",
    "    \"\"\"First Plot: Pie chart for categorical column to see percentage of each value\n",
    "       Secons Plot: Count plot for categorical column to see the number of count for each of the type\n",
    "       Third Plot is Number of Count for separeted for Attribition\"\"\"\n",
    "\n",
    "    f,ax = plt.subplots(1,3, figsize=(18,6))\n",
    "    dataframe[col_name].value_counts().plot.pie(autopct='%1.1f%%',ax=ax[0],shadow=True, cmap='Set3')\n",
    "    dataframe[col_name].value_counts().plot.bar(cmap='Set3',ax=ax[1])\n",
    "    ax[1].set_title(f'Number of Employee by {col_name}')\n",
    "    ax[1].set_ylabel('Count')\n",
    "    ax[1].set_xlabel(f'{col_name}')\n",
    "    sns.countplot(col_name, hue='Attrition',data=dataframe, ax=ax[2], palette='Set3')\n",
    "    ax[2].set_title(f'Attrition by {col_name}')\n",
    "    ax[2].set_xlabel(f'{col_name}')\n",
    "    ax[2].set_ylabel('Count')"
   ]
  },
  {
   "cell_type": "code",
   "execution_count": null,
   "metadata": {
    "scrolled": false
   },
   "outputs": [],
   "source": [
    "categorical_colum_investigaton('EducationField')\n",
    "categorical_colum_investigaton('MaritalStatus')\n",
    "categorical_colum_investigaton('Department')\n",
    "categorical_colum_investigaton('DistanceFromHome')\n",
    "categorical_colum_investigaton('JobSatisfaction')"
   ]
  },
  {
   "cell_type": "code",
   "execution_count": null,
   "metadata": {
    "scrolled": false
   },
   "outputs": [],
   "source": [
    "correlations = dataframe.corr()\n",
    "fig, ax = plt.subplots(figsize=(20,20))\n",
    "sns.heatmap(correlations, annot=True)\n",
    "# Job level is strongly correlated with total working hours\n",
    "# Monthly income is strongly correlated with Job level\n",
    "# Monthly income is strongly correlated with total working hours\n",
    "# Age is stongly correlated with monthly income"
   ]
  },
  {
   "cell_type": "markdown",
   "metadata": {},
   "source": [
    "___"
   ]
  },
  {
   "cell_type": "markdown",
   "metadata": {},
   "source": [
    "## CREATE TESTING AND TRAINING DATASET & PERFORM DATA CLEANING"
   ]
  },
  {
   "cell_type": "markdown",
   "metadata": {},
   "source": [
    "### A LOGISTIC REGRESSION CLASSIFIER "
   ]
  },
  {
   "cell_type": "code",
   "execution_count": null,
   "metadata": {},
   "outputs": [],
   "source": [
    "# building up a logistic regression model\n",
    "X = dataframe.drop(['Attrition'],axis=1)\n",
    "X.head()\n",
    "Y = dataframe['Attrition']\n",
    "Y.head()"
   ]
  },
  {
   "cell_type": "code",
   "execution_count": null,
   "metadata": {},
   "outputs": [],
   "source": [
    "dataframe['EducationField'].replace('Life Sciences',1, inplace=True)\n",
    "dataframe['EducationField'].replace('Medical',2, inplace=True)\n",
    "dataframe['EducationField'].replace('Marketing', 3, inplace=True)\n",
    "dataframe['EducationField'].replace('Other',4, inplace=True)\n",
    "dataframe['EducationField'].replace('Technical Degree',5, inplace=True)\n",
    "dataframe['EducationField'].replace('Human Resources', 6, inplace=True)"
   ]
  },
  {
   "cell_type": "code",
   "execution_count": null,
   "metadata": {},
   "outputs": [],
   "source": [
    "dataframe['EducationField'].value_counts()"
   ]
  },
  {
   "cell_type": "code",
   "execution_count": null,
   "metadata": {},
   "outputs": [],
   "source": [
    "dataframe['Department'].value_counts()"
   ]
  },
  {
   "cell_type": "code",
   "execution_count": null,
   "metadata": {},
   "outputs": [],
   "source": [
    "dataframe['Department'].replace('Research & Development',1, inplace=True)\n",
    "dataframe['Department'].replace('Sales',2, inplace=True)\n",
    "dataframe['Department'].replace('Human Resources', 3, inplace=True)"
   ]
  },
  {
   "cell_type": "code",
   "execution_count": null,
   "metadata": {},
   "outputs": [],
   "source": [
    "dataframe['Department'].value_counts()"
   ]
  },
  {
   "cell_type": "code",
   "execution_count": null,
   "metadata": {},
   "outputs": [],
   "source": [
    "dataframe['MaritalStatus'].value_counts()"
   ]
  },
  {
   "cell_type": "code",
   "execution_count": null,
   "metadata": {},
   "outputs": [],
   "source": [
    "dataframe['MaritalStatus'].replace('Married',1, inplace=True)\n",
    "dataframe['MaritalStatus'].replace('Single',2, inplace=True)\n",
    "dataframe['MaritalStatus'].replace('Divorced',3, inplace=True)"
   ]
  },
  {
   "cell_type": "code",
   "execution_count": null,
   "metadata": {},
   "outputs": [],
   "source": [
    "dataframe['MaritalStatus'].value_counts()"
   ]
  },
  {
   "cell_type": "code",
   "execution_count": null,
   "metadata": {},
   "outputs": [],
   "source": [
    "x=dataframe.select_dtypes(include=['int64'])\n",
    "x.dtypes"
   ]
  },
  {
   "cell_type": "code",
   "execution_count": null,
   "metadata": {},
   "outputs": [],
   "source": [
    "x.columns"
   ]
  },
  {
   "cell_type": "code",
   "execution_count": null,
   "metadata": {},
   "outputs": [],
   "source": [
    "y=dataframe['Attrition']"
   ]
  },
  {
   "cell_type": "code",
   "execution_count": null,
   "metadata": {},
   "outputs": [],
   "source": [
    "y.head()"
   ]
  },
  {
   "cell_type": "code",
   "execution_count": null,
   "metadata": {},
   "outputs": [],
   "source": [
    "y, x = dmatrices('Attrition ~ Age + Department + \\\n",
    "                  DistanceFromHome + Education + EducationField + YearsAtCompany',\n",
    "                  dataframe, return_type=\"dataframe\")\n",
    "print (x.columns)"
   ]
  },
  {
   "cell_type": "code",
   "execution_count": null,
   "metadata": {},
   "outputs": [],
   "source": [
    "y = np.ravel(y)"
   ]
  },
  {
   "cell_type": "code",
   "execution_count": null,
   "metadata": {},
   "outputs": [],
   "source": [
    "from sklearn.linear_model import LogisticRegression\n",
    "\n",
    "model = LogisticRegression()\n",
    "model = model.fit(x, y)\n",
    "\n",
    "# check the accuracy on the training set\n",
    "model.score(x, y)"
   ]
  },
  {
   "cell_type": "code",
   "execution_count": null,
   "metadata": {},
   "outputs": [],
   "source": [
    "y.mean()"
   ]
  },
  {
   "cell_type": "code",
   "execution_count": null,
   "metadata": {},
   "outputs": [],
   "source": [
    "X_train,X_test,y_train,y_test=sklearn.model_selection.train_test_split(x,y, test_size=0.3, random_state=0)\n",
    "model2=LogisticRegression()\n",
    "model2.fit(X_train, y_train)"
   ]
  },
  {
   "cell_type": "code",
   "execution_count": null,
   "metadata": {},
   "outputs": [],
   "source": [
    "predicted= model2.predict(X_test)\n",
    "print (predicted)"
   ]
  },
  {
   "cell_type": "code",
   "execution_count": null,
   "metadata": {
    "scrolled": true
   },
   "outputs": [],
   "source": [
    "probs = model2.predict_proba(X_test)\n",
    "print (probs)"
   ]
  },
  {
   "cell_type": "code",
   "execution_count": null,
   "metadata": {},
   "outputs": [],
   "source": [
    "from sklearn import metrics\n",
    "\n",
    "print (metrics.accuracy_score(y_test, predicted))\n",
    "print (metrics.roc_auc_score(y_test, probs[:, 1]))"
   ]
  },
  {
   "cell_type": "code",
   "execution_count": null,
   "metadata": {},
   "outputs": [],
   "source": [
    "from sklearn.metrics import accuracy_score\n",
    "from sklearn.metrics import confusion_matrix, classification_report"
   ]
  },
  {
   "cell_type": "code",
   "execution_count": null,
   "metadata": {},
   "outputs": [],
   "source": [
    "print(f\"Accuracy of Logistic Regression: %{100* accuracy_score(predicted, y_test)}\")"
   ]
  },
  {
   "cell_type": "code",
   "execution_count": null,
   "metadata": {},
   "outputs": [],
   "source": [
    "print (metrics.confusion_matrix(y_test, predicted))\n",
    "print (metrics.classification_report(y_test, predicted))"
   ]
  },
  {
   "cell_type": "code",
   "execution_count": null,
   "metadata": {
    "scrolled": true
   },
   "outputs": [],
   "source": [
    "cm = confusion_matrix(y_test, predicted)\n",
    "sns.heatmap(cm, annot=True)"
   ]
  },
  {
   "cell_type": "code",
   "execution_count": null,
   "metadata": {},
   "outputs": [],
   "source": [
    "print (X_train)"
   ]
  },
  {
   "cell_type": "code",
   "execution_count": null,
   "metadata": {
    "scrolled": true
   },
   "outputs": [],
   "source": [
    "#add random values to KK according to the parameters mentioned above to check the proabily of attrition of the employee\n",
    "kk=[[1.0, 23.0, 1.0, 500.0, 3.0, 24.0, 1.0]]\n",
    "print(model.predict_proba(kk))"
   ]
  },
  {
   "cell_type": "markdown",
   "metadata": {},
   "source": [
    "### TRYING MULTIPLE MODELS WITH CROSS VALIDATION"
   ]
  },
  {
   "cell_type": "code",
   "execution_count": null,
   "metadata": {},
   "outputs": [],
   "source": [
    "from sklearn.model_selection import KFold\n",
    "from sklearn.model_selection import cross_val_score, cross_val_predict\n",
    "from sklearn import svm\n",
    "from sklearn.ensemble import RandomForestClassifier\n",
    "from sklearn.naive_bayes import GaussianNB\n",
    "from sklearn.tree import DecisionTreeClassifier\n",
    "from sklearn.linear_model import LogisticRegression\n",
    "from sklearn.neighbors import KNeighborsClassifier\n",
    "from xgboost import XGBClassifier\n",
    "\n",
    "from sklearn.metrics import confusion_matrix\n",
    "from sklearn.model_selection import GridSearchCV\n",
    "\n",
    "\n",
    "\n",
    "\n",
    "kfold = KFold(n_splits=10, random_state=22,shuffle=True)\n",
    "xyz= []\n",
    "accuracy = []\n",
    "std = []\n",
    "y_pred_list = []\n",
    "\n",
    "\n",
    "classifiers = ['Linear Svm',\n",
    "              'Radical Svm',\n",
    "              'Logistic Regression',\n",
    "              'KNN',\n",
    "              'Decision Tree',\n",
    "              'Naive Bayes',\n",
    "              'Random Forest',\n",
    "              'XGBoost']\n",
    "\n",
    "models = [svm.SVC(kernel='linear'),\n",
    "         svm.SVC(kernel='rbf'),\n",
    "         LogisticRegression(solver='liblinear'),\n",
    "         KNeighborsClassifier(),\n",
    "          DecisionTreeClassifier(),\n",
    "          GaussianNB(),\n",
    "          RandomForestClassifier(n_estimators=100),\n",
    "          XGBClassifier()\n",
    "        ]\n",
    "\n",
    "for i in models:\n",
    "    model = i \n",
    "    cv_result =cross_val_score(model, \n",
    "                               X_train, \n",
    "                               y_train, \n",
    "                               cv=kfold,\n",
    "                              scoring='accuracy')\n",
    "    y_pred_list.append(predicted)\n",
    "    cv_result =cv_result\n",
    "    xyz.append(cv_result.mean())\n",
    "    std.append(cv_result.std())\n",
    "    accuracy.append(cv_result)\n",
    "    \n",
    "    \n",
    "    \n",
    "    \n",
    "new_model_data_frame =pd.DataFrame({'Cross-Validation Mean': xyz,\n",
    "                                   'Std': std},\n",
    "                                   index=classifiers)\n",
    "\n",
    "new_model_data_frame"
   ]
  },
  {
   "cell_type": "code",
   "execution_count": null,
   "metadata": {},
   "outputs": [],
   "source": [
    "plt.subplots(figsize=(12,16))\n",
    "plt.xticks(rotation=45)\n",
    "sns.boxplot(new_model_data_frame.index, accuracy)"
   ]
  },
  {
   "cell_type": "code",
   "execution_count": null,
   "metadata": {},
   "outputs": [],
   "source": [
    "from sklearn.model_selection import GridSearchCV\n",
    "C=[0.05, 0.1, 0.2, 0.25, 0.3, 0.35, 0.4, 0.5, 0.6, 0.7, 0.8, 0.9, 1]\n",
    "gamma=[0.1,0.2,0.3,0.4,0.5,0.6,0.7,0.8,0.9,1.0]\n",
    "kernel=['rbf','linear']\n",
    "hyper = {'kernel':kernel, 'C':C, 'gamma':gamma}\n",
    "gd =GridSearchCV(estimator=svm.SVC(), param_grid=hyper, verbose=True)\n",
    "\n",
    "\n",
    "gd.fit(X_train,y_train)\n",
    "\n",
    "\n",
    "print(gd.best_score_)"
   ]
  }
 ],
 "metadata": {
  "kernelspec": {
   "display_name": "Python 3",
   "language": "python",
   "name": "python3"
  },
  "language_info": {
   "codemirror_mode": {
    "name": "ipython",
    "version": 3
   },
   "file_extension": ".py",
   "mimetype": "text/x-python",
   "name": "python",
   "nbconvert_exporter": "python",
   "pygments_lexer": "ipython3",
   "version": "3.6.9"
  }
 },
 "nbformat": 4,
 "nbformat_minor": 2
}
